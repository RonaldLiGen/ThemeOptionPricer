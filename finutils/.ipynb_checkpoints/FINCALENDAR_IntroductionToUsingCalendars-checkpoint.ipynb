{
 "cells": [
  {
   "cell_type": "markdown",
   "metadata": {},
   "source": [
    "# USING CALENDARS"
   ]
  },
  {
   "cell_type": "code",
   "execution_count": 11,
   "metadata": {},
   "outputs": [],
   "source": [
    "from financepy.finutils import *"
   ]
  },
  {
   "cell_type": "markdown",
   "metadata": {},
   "source": [
    "We can see what calendars are available"
   ]
  },
  {
   "cell_type": "code",
   "execution_count": 12,
   "metadata": {},
   "outputs": [
    {
     "name": "stdout",
     "output_type": "stream",
     "text": [
      "FinCalendarTypes.TARGET\n",
      "FinCalendarTypes.US\n",
      "FinCalendarTypes.UK\n",
      "FinCalendarTypes.WEEKEND\n",
      "FinCalendarTypes.JAPAN\n",
      "FinCalendarTypes.NONE\n"
     ]
    }
   ],
   "source": [
    "for e in FinCalendarTypes:\n",
    "    print(e)"
   ]
  },
  {
   "cell_type": "markdown",
   "metadata": {},
   "source": [
    "# Holiday Lists"
   ]
  },
  {
   "cell_type": "code",
   "execution_count": 16,
   "metadata": {},
   "outputs": [],
   "source": [
    "# Specify US holiday calendar\n",
    "calUS = FinCalendar(FinCalendarTypes.US)"
   ]
  },
  {
   "cell_type": "code",
   "execution_count": 17,
   "metadata": {
    "scrolled": false
   },
   "outputs": [
    {
     "ename": "AttributeError",
     "evalue": "'FinCalendar' object has no attribute 'get_holiday_list'",
     "output_type": "error",
     "traceback": [
      "\u001b[1;31m---------------------------------------------------------------------------\u001b[0m",
      "\u001b[1;31mAttributeError\u001b[0m                            Traceback (most recent call last)",
      "\u001b[1;32m<ipython-input-17-bd82e7592224>\u001b[0m in \u001b[0;36m<module>\u001b[1;34m\u001b[0m\n\u001b[1;32m----> 1\u001b[1;33m \u001b[0mcalUS\u001b[0m\u001b[1;33m.\u001b[0m\u001b[0mget_holiday_list\u001b[0m\u001b[1;33m(\u001b[0m\u001b[1;36m2019\u001b[0m\u001b[1;33m)\u001b[0m\u001b[1;33m\u001b[0m\u001b[1;33m\u001b[0m\u001b[0m\n\u001b[0m",
      "\u001b[1;31mAttributeError\u001b[0m: 'FinCalendar' object has no attribute 'get_holiday_list'"
     ]
    }
   ],
   "source": [
    "calUS.get_holiday_list(2019)"
   ]
  },
  {
   "cell_type": "code",
   "execution_count": 8,
   "metadata": {},
   "outputs": [],
   "source": [
    "# Specify UK holiday calendar\n",
    "calUK = Calendar(CalendarTypes.UNITED_KINGDOM)"
   ]
  },
  {
   "cell_type": "code",
   "execution_count": 9,
   "metadata": {},
   "outputs": [
    {
     "data": {
      "text/plain": [
       "['01-JAN-2019',\n",
       " '19-APR-2019',\n",
       " '22-APR-2019',\n",
       " '06-MAY-2019',\n",
       " '27-MAY-2019',\n",
       " '26-AUG-2019',\n",
       " '25-DEC-2019',\n",
       " '26-DEC-2019']"
      ]
     },
     "execution_count": 9,
     "metadata": {},
     "output_type": "execute_result"
    }
   ],
   "source": [
    "calUK.get_holiday_list(2019)"
   ]
  },
  {
   "cell_type": "code",
   "execution_count": 10,
   "metadata": {},
   "outputs": [],
   "source": [
    "# Specify EUROPEAN TARGET holiday calendar\n",
    "calEU = Calendar(CalendarTypes.TARGET)"
   ]
  },
  {
   "cell_type": "code",
   "execution_count": 11,
   "metadata": {},
   "outputs": [
    {
     "data": {
      "text/plain": [
       "['01-JAN-2019',\n",
       " '19-APR-2019',\n",
       " '22-APR-2019',\n",
       " '01-MAY-2019',\n",
       " '25-DEC-2019',\n",
       " '26-DEC-2019']"
      ]
     },
     "execution_count": 11,
     "metadata": {},
     "output_type": "execute_result"
    }
   ],
   "source": [
    "calEU.get_holiday_list(2019)"
   ]
  },
  {
   "cell_type": "markdown",
   "metadata": {},
   "source": [
    "## Easter Monday"
   ]
  },
  {
   "cell_type": "code",
   "execution_count": 14,
   "metadata": {},
   "outputs": [
    {
     "name": "stdout",
     "output_type": "stream",
     "text": [
      "22-APR-2019\n"
     ]
    }
   ],
   "source": [
    "print(calEU.easter_monday(2019))"
   ]
  },
  {
   "cell_type": "code",
   "execution_count": 15,
   "metadata": {},
   "outputs": [
    {
     "name": "stdout",
     "output_type": "stream",
     "text": [
      "02-APR-2018\n"
     ]
    }
   ],
   "source": [
    "print(calEU.easter_monday(2018))"
   ]
  },
  {
   "cell_type": "code",
   "execution_count": 16,
   "metadata": {},
   "outputs": [
    {
     "name": "stdout",
     "output_type": "stream",
     "text": [
      "17-APR-2017\n"
     ]
    }
   ],
   "source": [
    "print(calEU.easter_monday(2017))"
   ]
  },
  {
   "cell_type": "code",
   "execution_count": 17,
   "metadata": {},
   "outputs": [
    {
     "name": "stdout",
     "output_type": "stream",
     "text": [
      "28-MAR-2016\n"
     ]
    }
   ],
   "source": [
    "print(calEU.easter_monday(2016))"
   ]
  },
  {
   "cell_type": "markdown",
   "metadata": {},
   "source": [
    "Copyright (c) 2020 Dominic O'Kane"
   ]
  }
 ],
 "metadata": {
  "kernelspec": {
   "display_name": "Python 3",
   "language": "python",
   "name": "python3"
  },
  "language_info": {
   "codemirror_mode": {
    "name": "ipython",
    "version": 3
   },
   "file_extension": ".py",
   "mimetype": "text/x-python",
   "name": "python",
   "nbconvert_exporter": "python",
   "pygments_lexer": "ipython3",
   "version": "3.8.8"
  }
 },
 "nbformat": 4,
 "nbformat_minor": 2
}
